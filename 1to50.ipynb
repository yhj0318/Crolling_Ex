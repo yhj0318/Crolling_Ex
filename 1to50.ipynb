{
 "cells": [
  {
   "cell_type": "code",
   "execution_count": 1,
   "id": "b0e450c6",
   "metadata": {},
   "outputs": [],
   "source": [
    "from selenium import webdriver"
   ]
  },
  {
   "cell_type": "code",
   "execution_count": 2,
   "id": "a03a654a",
   "metadata": {},
   "outputs": [],
   "source": [
    "from selenium.webdriver.common.keys import Keys\n",
    "from selenium.webdriver import ActionChains\n",
    "#특정 요소를 찾아가기 위해 ActionChains를 사용\n",
    "driver = webdriver.Chrome()\n",
    "driver.get('https://zzzscore.com/1to50/')\n",
    "driver.implicitly_wait(300)\n",
    "num = 1\n",
    "driver.maximize_window()\n",
    "#화면을 최대화 한다\n",
    "some_tag = driver.find_element_by_xpath('/html/body/div[1]/div[4]/span')\n",
    "#xpath에 알맞은 태그를 찾아 some_tag에 저장한다\n",
    "action = ActionChains(driver)\n",
    "action.move_to_element(some_tag).perform()\n",
    "#특정 태그가 위차한 곳까지 스크롤한다\n",
    "def clickBtn():\n",
    "    global num\n",
    "    #전역변수로 설정\n",
    "    btns = driver.find_elements_by_xpath('//*[@id=\"grid\"]/div[*]')\n",
    "    #div[*]를 하게되면 패턴을 인식하고 값이 자동으로 들어간다\n",
    "    for btn in btns:\n",
    "        if btn.text==str(num):\n",
    "            #비교하기위해 문자열로 변환\n",
    "            btn.click()\n",
    "            num+=1\n",
    "            return\n",
    "# print(len(btns))\n",
    "while num <= 50:\n",
    "    clickBtn()"
   ]
  }
 ],
 "metadata": {
  "kernelspec": {
   "display_name": "Python 3 (ipykernel)",
   "language": "python",
   "name": "python3"
  },
  "language_info": {
   "codemirror_mode": {
    "name": "ipython",
    "version": 3
   },
   "file_extension": ".py",
   "mimetype": "text/x-python",
   "name": "python",
   "nbconvert_exporter": "python",
   "pygments_lexer": "ipython3",
   "version": "3.11.4"
  }
 },
 "nbformat": 4,
 "nbformat_minor": 5
}
