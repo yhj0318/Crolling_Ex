{
 "cells": [
  {
   "cell_type": "code",
   "execution_count": 2,
   "id": "12815188",
   "metadata": {},
   "outputs": [
    {
     "name": "stdout",
     "output_type": "stream",
     "text": [
      "Requirement already satisfied: selenium in c:\\users\\user\\anaconda3\\lib\\site-packages (3.141.0)\n",
      "Requirement already satisfied: urllib3 in c:\\users\\user\\anaconda3\\lib\\site-packages (from selenium) (1.26.16)\n",
      "Note: you may need to restart the kernel to use updated packages.\n"
     ]
    }
   ],
   "source": [
    "pip install selenium"
   ]
  },
  {
   "cell_type": "code",
   "execution_count": 3,
   "id": "3da1ffb5",
   "metadata": {},
   "outputs": [],
   "source": [
    "# Copy XPath : 셀레니움에서 사용하는 특정 경로 지정법\n",
    "# Copy selector : CSS_SELECTOR로 마찬가지로 경로 지정법이다"
   ]
  },
  {
   "cell_type": "code",
   "execution_count": 4,
   "id": "678bd499",
   "metadata": {},
   "outputs": [],
   "source": [
    "from selenium import webdriver"
   ]
  },
  {
   "cell_type": "code",
   "execution_count": 8,
   "id": "f010a218",
   "metadata": {},
   "outputs": [],
   "source": [
    "from selenium.webdriver.common.by import By\n",
    "from selenium.webdriver.common.keys import Keys\n",
    "import time\n",
    "#webdriver.Chrome()을 쓰도록 업데이트 됐음 구버전에는 다른 방법으로 할당해야 함\n",
    "driver = webdriver.Chrome()\n",
    "driver.get('https://www.naver.com/')\n",
    "#로봇으로 인식할 수 있으니 sleep을 준다\n",
    "time.sleep(3)\n",
    "#검색어 창을 찾아 search 변수에 저장 신버전하고 구버전하고 사용법이 다름\n",
    "search = driver.find_element(By.CSS_SELECTOR, \"#query\")\n",
    "#검색창을 클릭한다\n",
    "search.click()\n",
    "#search 변수에 저장된 곳에 값을 전송\n",
    "search.send_keys(\"한라대\")\n",
    "#버튼을 찾아 btn 변수에 저장\n",
    "btn = driver.find_element(By.CSS_SELECTOR, \"#sform > fieldset > button\")\n",
    "#버튼을 클릭하여 검색을 한다\n",
    "btn.click()\n",
    "#body태그를 actions 변수에 저장\n",
    "actions = driver.find_element(By.CSS_SELECTOR, 'body')\n",
    "time.sleep(2)\n",
    "#actions변수에 해당하는 태그에 END키를 누르게 한다.\n",
    "actions.send_keys(Keys.PAGE_DOWN)\n",
    "time.sleep(2)\n",
    "actions.send_keys(Keys.HOME)\n",
    "time.sleep(2)"
   ]
  }
 ],
 "metadata": {
  "kernelspec": {
   "display_name": "Python 3 (ipykernel)",
   "language": "python",
   "name": "python3"
  },
  "language_info": {
   "codemirror_mode": {
    "name": "ipython",
    "version": 3
   },
   "file_extension": ".py",
   "mimetype": "text/x-python",
   "name": "python",
   "nbconvert_exporter": "python",
   "pygments_lexer": "ipython3",
   "version": "3.11.4"
  }
 },
 "nbformat": 4,
 "nbformat_minor": 5
}
