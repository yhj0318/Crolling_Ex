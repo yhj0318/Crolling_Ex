{
 "cells": [
  {
   "cell_type": "code",
   "execution_count": 1,
   "id": "5ef4b7fc",
   "metadata": {},
   "outputs": [
    {
     "name": "stdout",
     "output_type": "stream",
     "text": [
      "Requirement already satisfied: selenium in c:\\users\\user\\anaconda3\\lib\\site-packages (3.141.0)\n",
      "Requirement already satisfied: urllib3 in c:\\users\\user\\anaconda3\\lib\\site-packages (from selenium) (1.26.16)\n",
      "Note: you may need to restart the kernel to use updated packages.\n"
     ]
    }
   ],
   "source": [
    "pip install selenium"
   ]
  },
  {
   "cell_type": "code",
   "execution_count": 2,
   "id": "9e804e27",
   "metadata": {},
   "outputs": [],
   "source": [
    "# Copy XPath : 셀레니움에서 사용하는 특정 경로 지정법\n",
    "# Copy selector : CSS_SELECTOR로 마찬가지로 경로 지정법이다"
   ]
  },
  {
   "cell_type": "code",
   "execution_count": 3,
   "id": "8aec1be6",
   "metadata": {},
   "outputs": [],
   "source": [
    "from selenium import webdriver"
   ]
  },
  {
   "cell_type": "code",
   "execution_count": null,
   "id": "5ef33be2",
   "metadata": {},
   "outputs": [],
   "source": [
    "from selenium.webdriver.common.by import By\n",
    "import time\n",
    "driver = webdriver.Chrome()\n",
    "driver.get('https://www.naver.com/')\n",
    "#로봇으로 인식할 수 있으니 sleep을 준다\n",
    "time.sleep(5)\n",
    "#검색어 창을 찾아 search 변수에 저장\n",
    "search = driver.find_element(By.CSS_SELECTOR, \"#query\")\n",
    "#검색창을 클릭한다\n",
    "search.click()\n",
    "#search 변수에 저장된 곳에 값을 전송\n",
    "search.send_keys(\"한라대\")\n",
    "#버튼을 찾아 btn 변수에 저장\n",
    "btn = driver.find_element(By.CSS_SELECTOR, \"#sform > fieldset > button\")\n",
    "#버튼을 클릭하여 검색을 한다\n",
    "btn.click()"
   ]
  },
  {
   "cell_type": "code",
   "execution_count": null,
   "id": "bef74fb3",
   "metadata": {},
   "outputs": [],
   "source": []
  },
  {
   "cell_type": "code",
   "execution_count": null,
   "id": "23ba42f8",
   "metadata": {},
   "outputs": [],
   "source": []
  }
 ],
 "metadata": {
  "kernelspec": {
   "display_name": "Python 3 (ipykernel)",
   "language": "python",
   "name": "python3"
  },
  "language_info": {
   "codemirror_mode": {
    "name": "ipython",
    "version": 3
   },
   "file_extension": ".py",
   "mimetype": "text/x-python",
   "name": "python",
   "nbconvert_exporter": "python",
   "pygments_lexer": "ipython3",
   "version": "3.11.4"
  }
 },
 "nbformat": 4,
 "nbformat_minor": 5
}
